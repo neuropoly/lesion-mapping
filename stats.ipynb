{
 "cells": [
  {
   "cell_type": "code",
   "execution_count": 1,
   "metadata": {},
   "outputs": [],
   "source": [
    "import numpy as np\n",
    "import pandas as pd\n",
    "import os"
   ]
  },
  {
   "cell_type": "code",
   "execution_count": 2,
   "metadata": {},
   "outputs": [],
   "source": [
    "from brain.config_file import config as config_brain\n",
    "from spinalcord.config_file import config as config_spinalcord"
   ]
  },
  {
   "cell_type": "code",
   "execution_count": 3,
   "metadata": {},
   "outputs": [],
   "source": [
    "from utils_analysis import clean_csv, print_stats, multiple_linear_regression, paired_test#, plot_box"
   ]
  },
  {
   "cell_type": "code",
   "execution_count": 4,
   "metadata": {},
   "outputs": [],
   "source": [
    "path_csv_brain = os.path.join(config_brain['path_results'], 'brain_brainstem_results.csv')\n",
    "path_csv_sc = os.path.join(config_spinalcord['path_results'], 'spinalcord_results.csv')"
   ]
  },
  {
   "cell_type": "code",
   "execution_count": 5,
   "metadata": {},
   "outputs": [],
   "source": [
    "df_brain, df_sc, df_brain_sc = clean_csv(path_csv_brain, path_csv_sc)"
   ]
  },
  {
   "cell_type": "code",
   "execution_count": 6,
   "metadata": {},
   "outputs": [
    {
     "data": {
      "text/html": [
       "<div>\n",
       "<style scoped>\n",
       "    .dataframe tbody tr th:only-of-type {\n",
       "        vertical-align: middle;\n",
       "    }\n",
       "\n",
       "    .dataframe tbody tr th {\n",
       "        vertical-align: top;\n",
       "    }\n",
       "\n",
       "    .dataframe thead th {\n",
       "        text-align: right;\n",
       "    }\n",
       "</style>\n",
       "<table border=\"1\" class=\"dataframe\">\n",
       "  <thead>\n",
       "    <tr style=\"text-align: right;\">\n",
       "      <th></th>\n",
       "      <th>center</th>\n",
       "      <th>subject</th>\n",
       "      <th>age</th>\n",
       "      <th>gender</th>\n",
       "      <th>phenotype</th>\n",
       "      <th>disease_duration</th>\n",
       "      <th>edss_M0</th>\n",
       "      <th>edss_py_M0</th>\n",
       "      <th>T25FWT_M0</th>\n",
       "      <th>9HPT_M0</th>\n",
       "      <th>...</th>\n",
       "      <th>nlv_brainstem_motor</th>\n",
       "      <th>extension_brainstem_motor</th>\n",
       "      <th>count_sc_motor</th>\n",
       "      <th>alv_sc_motor</th>\n",
       "      <th>vol_sc_motor</th>\n",
       "      <th>nlv_sc_motor</th>\n",
       "      <th>extension_sc_motor</th>\n",
       "      <th>nlv_brain_full</th>\n",
       "      <th>nlv_brainstem_full</th>\n",
       "      <th>nlv_sc_full</th>\n",
       "    </tr>\n",
       "  </thead>\n",
       "  <tbody>\n",
       "    <tr>\n",
       "      <th>32</th>\n",
       "      <td>rennes</td>\n",
       "      <td>rennes_20170112_63</td>\n",
       "      <td>33</td>\n",
       "      <td>M</td>\n",
       "      <td>RR</td>\n",
       "      <td>0.08</td>\n",
       "      <td>1.0</td>\n",
       "      <td>0</td>\n",
       "      <td>6.05</td>\n",
       "      <td>0.045</td>\n",
       "      <td>...</td>\n",
       "      <td>0.0</td>\n",
       "      <td>NaN</td>\n",
       "      <td>3.0</td>\n",
       "      <td>164.370603</td>\n",
       "      <td>1255.507365</td>\n",
       "      <td>0.130920</td>\n",
       "      <td>0.306464</td>\n",
       "      <td>0.000000</td>\n",
       "      <td>0.000000</td>\n",
       "      <td>0.045668</td>\n",
       "    </tr>\n",
       "    <tr>\n",
       "      <th>21</th>\n",
       "      <td>rennes</td>\n",
       "      <td>rennes_20170112_34</td>\n",
       "      <td>32</td>\n",
       "      <td>F</td>\n",
       "      <td>RR</td>\n",
       "      <td>1.33</td>\n",
       "      <td>0.0</td>\n",
       "      <td>0</td>\n",
       "      <td>5.30</td>\n",
       "      <td>0.054</td>\n",
       "      <td>...</td>\n",
       "      <td>0.0</td>\n",
       "      <td>0.0</td>\n",
       "      <td>13.0</td>\n",
       "      <td>150.503071</td>\n",
       "      <td>1054.064227</td>\n",
       "      <td>0.142784</td>\n",
       "      <td>0.222557</td>\n",
       "      <td>0.009464</td>\n",
       "      <td>0.007459</td>\n",
       "      <td>0.077859</td>\n",
       "    </tr>\n",
       "    <tr>\n",
       "      <th>25</th>\n",
       "      <td>rennes</td>\n",
       "      <td>rennes_20170112_46</td>\n",
       "      <td>27</td>\n",
       "      <td>F</td>\n",
       "      <td>RR</td>\n",
       "      <td>1.33</td>\n",
       "      <td>1.0</td>\n",
       "      <td>0</td>\n",
       "      <td>3.70</td>\n",
       "      <td>0.049</td>\n",
       "      <td>...</td>\n",
       "      <td>0.0</td>\n",
       "      <td>0.0</td>\n",
       "      <td>0.0</td>\n",
       "      <td>0.000000</td>\n",
       "      <td>1120.378944</td>\n",
       "      <td>0.000000</td>\n",
       "      <td>NaN</td>\n",
       "      <td>0.005734</td>\n",
       "      <td>0.002015</td>\n",
       "      <td>0.000000</td>\n",
       "    </tr>\n",
       "    <tr>\n",
       "      <th>22</th>\n",
       "      <td>rennes</td>\n",
       "      <td>rennes_20170112_35</td>\n",
       "      <td>21</td>\n",
       "      <td>F</td>\n",
       "      <td>RR</td>\n",
       "      <td>0.58</td>\n",
       "      <td>1.0</td>\n",
       "      <td>0</td>\n",
       "      <td>6.64</td>\n",
       "      <td>0.042</td>\n",
       "      <td>...</td>\n",
       "      <td>0.0</td>\n",
       "      <td>NaN</td>\n",
       "      <td>5.0</td>\n",
       "      <td>26.103511</td>\n",
       "      <td>845.969501</td>\n",
       "      <td>0.030856</td>\n",
       "      <td>0.102073</td>\n",
       "      <td>0.000236</td>\n",
       "      <td>0.000000</td>\n",
       "      <td>0.040386</td>\n",
       "    </tr>\n",
       "    <tr>\n",
       "      <th>28</th>\n",
       "      <td>rennes</td>\n",
       "      <td>rennes_20170112_58</td>\n",
       "      <td>26</td>\n",
       "      <td>F</td>\n",
       "      <td>RR</td>\n",
       "      <td>0.67</td>\n",
       "      <td>0.0</td>\n",
       "      <td>0</td>\n",
       "      <td>5.44</td>\n",
       "      <td>0.051</td>\n",
       "      <td>...</td>\n",
       "      <td>0.0</td>\n",
       "      <td>0.0</td>\n",
       "      <td>2.0</td>\n",
       "      <td>35.484459</td>\n",
       "      <td>1043.121836</td>\n",
       "      <td>0.034018</td>\n",
       "      <td>0.162313</td>\n",
       "      <td>0.000881</td>\n",
       "      <td>0.000190</td>\n",
       "      <td>0.026712</td>\n",
       "    </tr>\n",
       "  </tbody>\n",
       "</table>\n",
       "<p>5 rows × 116 columns</p>\n",
       "</div>"
      ],
      "text/plain": [
       "    center             subject  age gender phenotype  disease_duration  \\\n",
       "32  rennes  rennes_20170112_63   33      M        RR              0.08   \n",
       "21  rennes  rennes_20170112_34   32      F        RR              1.33   \n",
       "25  rennes  rennes_20170112_46   27      F        RR              1.33   \n",
       "22  rennes  rennes_20170112_35   21      F        RR              0.58   \n",
       "28  rennes  rennes_20170112_58   26      F        RR              0.67   \n",
       "\n",
       "    edss_M0  edss_py_M0  T25FWT_M0  9HPT_M0     ...      nlv_brainstem_motor  \\\n",
       "32      1.0           0       6.05    0.045     ...                      0.0   \n",
       "21      0.0           0       5.30    0.054     ...                      0.0   \n",
       "25      1.0           0       3.70    0.049     ...                      0.0   \n",
       "22      1.0           0       6.64    0.042     ...                      0.0   \n",
       "28      0.0           0       5.44    0.051     ...                      0.0   \n",
       "\n",
       "   extension_brainstem_motor count_sc_motor alv_sc_motor  vol_sc_motor  \\\n",
       "32                       NaN            3.0   164.370603   1255.507365   \n",
       "21                       0.0           13.0   150.503071   1054.064227   \n",
       "25                       0.0            0.0     0.000000   1120.378944   \n",
       "22                       NaN            5.0    26.103511    845.969501   \n",
       "28                       0.0            2.0    35.484459   1043.121836   \n",
       "\n",
       "    nlv_sc_motor  extension_sc_motor  nlv_brain_full  nlv_brainstem_full  \\\n",
       "32      0.130920            0.306464        0.000000            0.000000   \n",
       "21      0.142784            0.222557        0.009464            0.007459   \n",
       "25      0.000000                 NaN        0.005734            0.002015   \n",
       "22      0.030856            0.102073        0.000236            0.000000   \n",
       "28      0.034018            0.162313        0.000881            0.000190   \n",
       "\n",
       "    nlv_sc_full  \n",
       "32     0.045668  \n",
       "21     0.077859  \n",
       "25     0.000000  \n",
       "22     0.040386  \n",
       "28     0.026712  \n",
       "\n",
       "[5 rows x 116 columns]"
      ]
     },
     "execution_count": 6,
     "metadata": {},
     "output_type": "execute_result"
    }
   ],
   "source": [
    "df_brain_sc.sample(5)"
   ]
  },
  {
   "cell_type": "markdown",
   "metadata": {},
   "source": [
    "# Clinical and Demo information"
   ]
  },
  {
   "cell_type": "code",
   "execution_count": 7,
   "metadata": {},
   "outputs": [
    {
     "data": {
      "text/plain": [
       "'Number of subjects included: 42'"
      ]
     },
     "execution_count": 7,
     "metadata": {},
     "output_type": "execute_result"
    }
   ],
   "source": [
    "'Number of subjects included: '+str(len(df_brain_sc.index))"
   ]
  },
  {
   "cell_type": "markdown",
   "metadata": {},
   "source": [
    "## M0"
   ]
  },
  {
   "cell_type": "code",
   "execution_count": 8,
   "metadata": {},
   "outputs": [],
   "source": [
    "df_M0 = df_brain_sc[pd.to_numeric(df_brain_sc['edss_M0'], errors='coerce').notnull()]"
   ]
  },
  {
   "cell_type": "code",
   "execution_count": 9,
   "metadata": {},
   "outputs": [
    {
     "data": {
      "text/plain": [
       "'n=42'"
      ]
     },
     "execution_count": 9,
     "metadata": {},
     "output_type": "execute_result"
    }
   ],
   "source": [
    "'n='+str(len(df_M0))"
   ]
  },
  {
   "cell_type": "code",
   "execution_count": 10,
   "metadata": {},
   "outputs": [
    {
     "name": "stdout",
     "output_type": "stream",
     "text": [
      "disease_duration\n",
      "\tMean: 0.67\n",
      "\tSD: 0.41\n",
      "\tMedian: 0.67\n",
      "\tIQR: 0.73\n",
      "\tRange: [0.08, 1.42]\n",
      "age\n",
      "\tMean: 31.93\n",
      "\tSD: 6.52\n",
      "\tMedian: 32.0\n",
      "\tIQR: 7.5\n",
      "\tRange: [19.0, 49.0]\n",
      "edss_M0\n",
      "\tMean: 0.75\n",
      "\tSD: 0.81\n",
      "\tMedian: 1.0\n",
      "\tIQR: 1.0\n",
      "\tRange: [0.0, 2.5]\n",
      "edss_py_M0\n",
      "\tMean: 0.24\n",
      "\tSD: 0.53\n",
      "\tMedian: 0.0\n",
      "\tIQR: 0.0\n",
      "\tRange: [0.0, 2.0]\n",
      "T25FWT_M0\n",
      "\tMean: 4.87\n",
      "\tSD: 0.97\n",
      "\tMedian: 4.82\n",
      "\tIQR: 1.1\n",
      "\tRange: [2.75, 7.5]\n",
      "9HPT_M0\n",
      "\tMean: 0.05\n",
      "\tSD: 0.01\n",
      "\tMedian: 0.05\n",
      "\tIQR: 0.01\n",
      "\tRange: [0.03, 0.06]\n"
     ]
    }
   ],
   "source": [
    "print_stats(df=df_M0, label_info='disease_duration')\n",
    "print_stats(df=df_M0, label_info='age')\n",
    "print_stats(df=df_M0, label_info='edss_M0')\n",
    "print_stats(df=df_M0, label_info='edss_py_M0')\n",
    "print_stats(df=df_M0, label_info='T25FWT_M0')\n",
    "print_stats(df=df_M0, label_info='9HPT_M0')"
   ]
  },
  {
   "cell_type": "markdown",
   "metadata": {},
   "source": [
    "## M24"
   ]
  },
  {
   "cell_type": "code",
   "execution_count": 11,
   "metadata": {},
   "outputs": [
    {
     "name": "stderr",
     "output_type": "stream",
     "text": [
      "/home/charley/.local/lib/python2.7/site-packages/ipykernel_launcher.py:3: SettingWithCopyWarning: \n",
      "A value is trying to be set on a copy of a slice from a DataFrame.\n",
      "Try using .loc[row_indexer,col_indexer] = value instead\n",
      "\n",
      "See the caveats in the documentation: http://pandas.pydata.org/pandas-docs/stable/indexing.html#indexing-view-versus-copy\n",
      "  This is separate from the ipykernel package so we can avoid doing imports until\n"
     ]
    }
   ],
   "source": [
    "df_M24 = df_brain_sc[pd.to_numeric(df_brain_sc['edss_M24'], errors='coerce').notnull()]\n",
    "for col in ['age', 'disease_duration', 'edss_M24', 'edss_py_M24', 'T25FWT_M24', '9HPT_M24']:\n",
    "    df_M24[col] = pd.to_numeric(df_M24[col], errors='coerce')"
   ]
  },
  {
   "cell_type": "code",
   "execution_count": 12,
   "metadata": {},
   "outputs": [
    {
     "data": {
      "text/plain": [
       "'n=40'"
      ]
     },
     "execution_count": 12,
     "metadata": {},
     "output_type": "execute_result"
    }
   ],
   "source": [
    "'n='+str(len(df_M24))"
   ]
  },
  {
   "cell_type": "code",
   "execution_count": 13,
   "metadata": {},
   "outputs": [
    {
     "name": "stdout",
     "output_type": "stream",
     "text": [
      "disease_duration\n",
      "\tMean: 0.68\n",
      "\tSD: 0.41\n",
      "\tMedian: 0.67\n",
      "\tIQR: 0.69\n",
      "\tRange: [0.08, 1.42]\n",
      "age\n",
      "\tMean: 32.17\n",
      "\tSD: 6.4\n",
      "\tMedian: 32.0\n",
      "\tIQR: 7.5\n",
      "\tRange: [19.0, 49.0]\n",
      "edss_M24\n",
      "\tMean: 0.74\n",
      "\tSD: 0.9\n",
      "\tMedian: 0.5\n",
      "\tIQR: 1.0\n",
      "\tRange: [0.0, 4.0]\n",
      "edss_py_M24\n",
      "\tMean: 0.42\n",
      "\tSD: 0.67\n",
      "\tMedian: 0.0\n",
      "\tIQR: 1.0\n",
      "\tRange: [0.0, 3.0]\n",
      "T25FWT_M24\n",
      "\tMean: 4.84\n",
      "\tSD: 0.91\n",
      "\tMedian: 4.8\n",
      "\tIQR: 1.21\n",
      "\tRange: [3.15, 7.0]\n",
      "9HPT_M24\n",
      "\tMean: 0.05\n",
      "\tSD: 0.01\n",
      "\tMedian: 0.06\n",
      "\tIQR: 0.01\n",
      "\tRange: [0.04, 0.07]\n"
     ]
    }
   ],
   "source": [
    "print_stats(df=df_M24, label_info='disease_duration')\n",
    "print_stats(df=df_M24, label_info='age')\n",
    "print_stats(df=df_M24, label_info='edss_M24')\n",
    "print_stats(df=df_M24, label_info='edss_py_M24')\n",
    "print_stats(df=df_M24, label_info='T25FWT_M24')\n",
    "print_stats(df=df_M24, label_info='9HPT_M24')"
   ]
  },
  {
   "cell_type": "markdown",
   "metadata": {},
   "source": [
    "# MRI measures"
   ]
  },
  {
   "cell_type": "markdown",
   "metadata": {},
   "source": [
    "### Count"
   ]
  },
  {
   "cell_type": "code",
   "execution_count": 14,
   "metadata": {},
   "outputs": [
    {
     "name": "stdout",
     "output_type": "stream",
     "text": [
      "count_cns_full\n",
      "\tMean: 23.98\n",
      "\tSD: 21.24\n",
      "\tMedian: 17.0\n",
      "\tIQR: 21.75\n",
      "\tRange: [3.0, 83.0]\n",
      "count_cns_motor\n",
      "\tMean: 5.38\n",
      "\tSD: 5.36\n",
      "\tMedian: 4.0\n",
      "\tIQR: 4.75\n",
      "\tRange: [0.0, 26.0]\n",
      "count_cns_motor-ext\n",
      "\tMean: 13.24\n",
      "\tSD: 12.29\n",
      "\tMedian: 8.0\n",
      "\tIQR: 13.25\n",
      "\tRange: [0.0, 52.0]\n",
      "count_brain_full\n",
      "\tMean: 18.73\n",
      "\tSD: 17.32\n",
      "\tMedian: 12.0\n",
      "\tIQR: 17.0\n",
      "\tRange: [0.0, 59.0]\n",
      "count_brainstem_full\n",
      "\tMean: 3.51\n",
      "\tSD: 4.14\n",
      "\tMedian: 2.0\n",
      "\tIQR: 3.0\n",
      "\tRange: [0.0, 19.0]\n",
      "count_sc_full\n",
      "\tMean: 2.26\n",
      "\tSD: 2.28\n",
      "\tMedian: 2.0\n",
      "\tIQR: 2.0\n",
      "\tRange: [0.0, 9.0]\n",
      "count_brain_motor\n",
      "\tMean: 2.0\n",
      "\tSD: 2.67\n",
      "\tMedian: 1.0\n",
      "\tIQR: 3.0\n",
      "\tRange: [0.0, 13.0]\n",
      "count_brain_motor-ext\n",
      "\tMean: 9.86\n",
      "\tSD: 10.92\n",
      "\tMedian: 5.5\n",
      "\tIQR: 11.5\n",
      "\tRange: [0.0, 39.0]\n",
      "count_brainstem_motor\n",
      "\tMean: 0.29\n",
      "\tSD: 0.76\n",
      "\tMedian: 0.0\n",
      "\tIQR: 0.0\n",
      "\tRange: [0.0, 3.0]\n",
      "count_sc_motor\n",
      "\tMean: 3.1\n",
      "\tSD: 4.12\n",
      "\tMedian: 2.0\n",
      "\tIQR: 3.0\n",
      "\tRange: [0.0, 16.0]\n"
     ]
    }
   ],
   "source": [
    "print_stats(df=df_brain_sc, label_info='count_cns_full') # Brain + Brainstem + SC\n",
    "print_stats(df=df_brain_sc, label_info='count_cns_motor') # M1 + CST_brainstem + CST_SC\n",
    "print_stats(df=df_brain_sc, label_info='count_cns_motor-ext') # SMATT + CST_brainstem + CST_SC\n",
    "\n",
    "print_stats(df=df_brain_sc, label_info='count_brain_full')\n",
    "print_stats(df=df_brain_sc, label_info='count_brainstem_full')\n",
    "print_stats(df=df_brain_sc, label_info='count_sc_full')\n",
    "\n",
    "print_stats(df=df_brain_sc, label_info='count_brain_motor')\n",
    "print_stats(df=df_brain_sc, label_info='count_brain_motor-ext')\n",
    "print_stats(df=df_brain_sc, label_info='count_brainstem_motor')\n",
    "print_stats(df=df_brain_sc, label_info='count_sc_motor')"
   ]
  },
  {
   "cell_type": "markdown",
   "metadata": {},
   "source": [
    "### Absolute Lesion Volume [mm3]"
   ]
  },
  {
   "cell_type": "code",
   "execution_count": 16,
   "metadata": {},
   "outputs": [
    {
     "name": "stdout",
     "output_type": "stream",
     "text": [
      "tlv_cns_full\n",
      "\tMean: 3278.92\n",
      "\tSD: 3925.85\n",
      "\tMedian: 1743.79\n",
      "\tIQR: 2341.88\n",
      "\tRange: [84.86, 16329.98]\n",
      "alv_cns_motor\n",
      "\tMean: 161.31\n",
      "\tSD: 210.44\n",
      "\tMedian: 73.03\n",
      "\tIQR: 168.36\n",
      "\tRange: [0.0, 829.04]\n",
      "alv_cns_motor-ext\n",
      "\tMean: 332.25\n",
      "\tSD: 410.6\n",
      "\tMedian: 157.03\n",
      "\tIQR: 377.68\n",
      "\tRange: [0.0, 1916.89]\n",
      "tlv_brain_full\n",
      "\tMean: 2612.21\n",
      "\tSD: 3180.94\n",
      "\tMedian: 1230.31\n",
      "\tIQR: 2054.6\n",
      "\tRange: [0.0, 12154.63]\n",
      "tlv_brainstem_full\n",
      "\tMean: 496.84\n",
      "\tSD: 888.48\n",
      "\tMedian: 171.08\n",
      "\tIQR: 494.14\n",
      "\tRange: [0.0, 4449.73]\n",
      "tlv_sc_full\n",
      "\tMean: 243.9\n",
      "\tSD: 387.46\n",
      "\tMedian: 87.28\n",
      "\tIQR: 260.22\n",
      "\tRange: [0.0, 2012.42]\n",
      "alv_brain_motor\n",
      "\tMean: 61.46\n",
      "\tSD: 150.82\n",
      "\tMedian: 1.49\n",
      "\tIQR: 48.35\n",
      "\tRange: [0.0, 797.85]\n",
      "alv_brain_motor-ext\n",
      "\tMean: 232.4\n",
      "\tSD: 390.16\n",
      "\tMedian: 65.82\n",
      "\tIQR: 212.15\n",
      "\tRange: [0.0, 1914.85]\n",
      "alv_brainstem_motor\n",
      "\tMean: 19.74\n",
      "\tSD: 96.97\n",
      "\tMedian: 0.0\n",
      "\tIQR: 0.0\n",
      "\tRange: [0.0, 628.49]\n",
      "alv_sc_motor\n",
      "\tMean: 80.12\n",
      "\tSD: 141.52\n",
      "\tMedian: 35.69\n",
      "\tIQR: 88.1\n",
      "\tRange: [0.0, 801.05]\n"
     ]
    }
   ],
   "source": [
    "print_stats(df=df_brain_sc, label_info='tlv_cns_full')\n",
    "print_stats(df=df_brain_sc, label_info='alv_cns_motor')\n",
    "print_stats(df=df_brain_sc, label_info='alv_cns_motor-ext')\n",
    "\n",
    "print_stats(df=df_brain_sc, label_info='tlv_brain_full')\n",
    "print_stats(df=df_brain_sc, label_info='tlv_brainstem_full')\n",
    "print_stats(df=df_brain_sc, label_info='tlv_sc_full')\n",
    "\n",
    "print_stats(df=df_brain_sc, label_info='alv_brain_motor')\n",
    "print_stats(df=df_brain_sc, label_info='alv_brain_motor-ext')\n",
    "print_stats(df=df_brain_sc, label_info='alv_brainstem_motor')\n",
    "print_stats(df=df_brain_sc, label_info='alv_sc_motor')"
   ]
  },
  {
   "cell_type": "markdown",
   "metadata": {},
   "source": [
    "### Normalised Lesion Volume [%]"
   ]
  },
  {
   "cell_type": "code",
   "execution_count": 17,
   "metadata": {},
   "outputs": [
    {
     "name": "stdout",
     "output_type": "stream",
     "text": [
      "nlv_cns_full\n",
      "\tMean: 0.28\n",
      "\tSD: 0.66\n",
      "\tMedian: 0.11\n",
      "\tIQR: 0.16\n",
      "\tRange: [0.0, 4.27]\n",
      "nlv_cns_motor\n",
      "\tMean: 1.06\n",
      "\tSD: 1.55\n",
      "\tMedian: 0.41\n",
      "\tIQR: 1.08\n",
      "\tRange: [0.0, 7.75]\n",
      "nlv_cns_motor-ext\n",
      "\tMean: 0.94\n",
      "\tSD: 1.42\n",
      "\tMedian: 0.36\n",
      "\tIQR: 1.01\n",
      "\tRange: [0.0, 7.75]\n",
      "nlv_brain_full\n",
      "\tMean: 0.19\n",
      "\tSD: 0.24\n",
      "\tMedian: 0.09\n",
      "\tIQR: 0.16\n",
      "\tRange: [0.0, 0.95]\n",
      "nlv_brainstem_full\n",
      "\tMean: 0.1\n",
      "\tSD: 0.17\n",
      "\tMedian: 0.03\n",
      "\tIQR: 0.09\n",
      "\tRange: [0.0, 0.75]\n",
      "nlv_sc_full\n",
      "\tMean: 2.77\n",
      "\tSD: 4.65\n",
      "\tMedian: 1.0\n",
      "\tIQR: 3.01\n",
      "\tRange: [0.0, 23.93]\n",
      "nlv_brain_motor\n",
      "\tMean: 0.68\n",
      "\tSD: 1.67\n",
      "\tMedian: 0.02\n",
      "\tIQR: 0.6\n",
      "\tRange: [0.0, 7.96]\n",
      "nlv_brain_motor-ext\n",
      "\tMean: 0.69\n",
      "\tSD: 1.14\n",
      "\tMedian: 0.19\n",
      "\tIQR: 0.66\n",
      "\tRange: [0.0, 4.97]\n",
      "nlv_brainstem_motor\n",
      "\tMean: 0.29236\n",
      "\tSD: 1.48316\n",
      "\tMedian: 0.0\n",
      "\tIQR: 0.0\n",
      "\tRange: [0.0, 9.56286]\n",
      "nlv_sc_motor\n",
      "\tMean: 7.27\n",
      "\tSD: 13.53\n",
      "\tMedian: 3.07\n",
      "\tIQR: 7.59\n",
      "\tRange: [0.0, 77.2]\n"
     ]
    }
   ],
   "source": [
    "print_stats(df=df_brain_sc, label_info='nlv_cns_full')\n",
    "print_stats(df=df_brain_sc, label_info='nlv_cns_motor')\n",
    "print_stats(df=df_brain_sc, label_info='nlv_cns_motor-ext')\n",
    "\n",
    "print_stats(df=df_brain_sc, label_info='nlv_brain_full')\n",
    "print_stats(df=df_brain_sc, label_info='nlv_brainstem_full')\n",
    "print_stats(df=df_brain_sc, label_info='nlv_sc_full')\n",
    "\n",
    "print_stats(df=df_brain_sc, label_info='nlv_brain_motor')\n",
    "print_stats(df=df_brain_sc, label_info='nlv_brain_motor-ext')\n",
    "print_stats(df=df_brain_sc, label_info='nlv_brainstem_motor', nb_dec=5)\n",
    "print_stats(df=df_brain_sc, label_info='nlv_sc_motor')"
   ]
  },
  {
   "cell_type": "code",
   "execution_count": 18,
   "metadata": {},
   "outputs": [
    {
     "name": "stdout",
     "output_type": "stream",
     "text": [
      "nlv_cns_full vs. nlv_cns_motor\n",
      "\t0.003756\n",
      "nlv_cns_full vs. nlv_cns_motor-ext\n",
      "\t0.007775\n"
     ]
    }
   ],
   "source": [
    "paired_test(df_brain_sc, 'nlv_cns_full', 'nlv_cns_motor')\n",
    "paired_test(df_brain_sc, 'nlv_cns_full', 'nlv_cns_motor-ext')"
   ]
  },
  {
   "cell_type": "code",
   "execution_count": 19,
   "metadata": {},
   "outputs": [
    {
     "name": "stdout",
     "output_type": "stream",
     "text": [
      "nlv_brain_full vs. nlv_brain_motor\n",
      "\tNot Sign.\n",
      "nlv_brain_full vs. nlv_brain_motor-ext\n",
      "\t0.00827\n"
     ]
    }
   ],
   "source": [
    "paired_test(df_brain_sc, 'nlv_brain_full', 'nlv_brain_motor')\n",
    "paired_test(df_brain_sc, 'nlv_brain_full', 'nlv_brain_motor-ext')"
   ]
  },
  {
   "cell_type": "code",
   "execution_count": 20,
   "metadata": {},
   "outputs": [
    {
     "name": "stdout",
     "output_type": "stream",
     "text": [
      "nlv_brainstem_full vs. nlv_brainstem_motor\n",
      "\tNot Sign.\n"
     ]
    }
   ],
   "source": [
    "paired_test(df_brain_sc, 'nlv_brainstem_full', 'nlv_brainstem_motor')"
   ]
  },
  {
   "cell_type": "code",
   "execution_count": 21,
   "metadata": {},
   "outputs": [
    {
     "name": "stdout",
     "output_type": "stream",
     "text": [
      "nlv_sc_full vs. nlv_sc_motor\n",
      "\t0.047022\n"
     ]
    }
   ],
   "source": [
    "paired_test(df_brain_sc, 'nlv_sc_full', 'nlv_sc_motor')"
   ]
  },
  {
   "cell_type": "code",
   "execution_count": 24,
   "metadata": {},
   "outputs": [
    {
     "name": "stdout",
     "output_type": "stream",
     "text": [
      "nlv_brain_motor vs. nlv_sc_motor\n",
      "\t0.003021\n",
      "nlv_brain_motor-ext vs. nlv_sc_motor\n",
      "\t0.002929\n",
      "nlv_brainstem_motor vs. nlv_sc_motor\n",
      "\t0.001709\n"
     ]
    }
   ],
   "source": [
    "paired_test(df_brain_sc, 'nlv_brain_motor', 'nlv_sc_motor')\n",
    "paired_test(df_brain_sc, 'nlv_brain_motor-ext', 'nlv_sc_motor')\n",
    "paired_test(df_brain_sc, 'nlv_brainstem_motor', 'nlv_sc_motor')"
   ]
  },
  {
   "cell_type": "markdown",
   "metadata": {},
   "source": [
    "### Lesion Extension in CST [%]"
   ]
  },
  {
   "cell_type": "code",
   "execution_count": 22,
   "metadata": {},
   "outputs": [
    {
     "name": "stdout",
     "output_type": "stream",
     "text": [
      "extension_cns_motor\n",
      "\tMean: 7.54\n",
      "\tSD: 8.87\n",
      "\tMedian: 4.24\n",
      "\tIQR: 7.26\n",
      "\tRange: [0.0, 33.69]\n",
      "extension_cns_motor-ext\n",
      "\tMean: 12.24\n",
      "\tSD: 10.55\n",
      "\tMedian: 8.54\n",
      "\tIQR: 14.04\n",
      "\tRange: [0.0, 39.8]\n",
      "extension_brain_motor\n",
      "\tMean: 2.35\n",
      "\tSD: 4.65\n",
      "\tMedian: 0.14\n",
      "\tIQR: 1.9\n",
      "\tRange: [0.0, 19.08]\n",
      "extension_brainstem_motor\n",
      "\tMean: 2.89\n",
      "\tSD: 8.51\n",
      "\tMedian: 0.0\n",
      "\tIQR: 0.0\n",
      "\tRange: [0.0, 35.18]\n",
      "extension_brainstem_motor\n",
      "\tMean: 2.89\n",
      "\tSD: 8.51\n",
      "\tMedian: 0.0\n",
      "\tIQR: 0.0\n",
      "\tRange: [0.0, 35.18]\n",
      "extension_sc_motor\n",
      "\tMean: 43.11\n",
      "\tSD: 66.07\n",
      "\tMedian: 32.78\n",
      "\tIQR: 33.67\n",
      "\tRange: [0.0, 400.0]\n"
     ]
    }
   ],
   "source": [
    "print_stats(df=df_brain_sc, label_info='extension_cns_motor')\n",
    "print_stats(df=df_brain_sc, label_info='extension_cns_motor-ext')\n",
    "print_stats(df=df_brain_sc, label_info='extension_brain_motor')\n",
    "print_stats(df=df_brain_sc, label_info='extension_brainstem_motor')\n",
    "print_stats(df=df_brain_sc, label_info='extension_brainstem_motor')\n",
    "print_stats(df=df_brain_sc, label_info='extension_sc_motor')"
   ]
  },
  {
   "cell_type": "markdown",
   "metadata": {},
   "source": [
    "# Regression Analysis"
   ]
  },
  {
   "cell_type": "code",
   "execution_count": 25,
   "metadata": {},
   "outputs": [],
   "source": [
    "df_brain_sc = df_brain_sc.replace({\"gender\": {'M': 0, 'F':1}})"
   ]
  },
  {
   "cell_type": "markdown",
   "metadata": {},
   "source": [
    "## M0"
   ]
  },
  {
   "cell_type": "markdown",
   "metadata": {},
   "source": [
    "### EDSS_M0"
   ]
  },
  {
   "cell_type": "code",
   "execution_count": 26,
   "metadata": {},
   "outputs": [
    {
     "name": "stdout",
     "output_type": "stream",
     "text": [
      "\n",
      "edss_M0 ~ nlv_brain_motor + age + disease_duration + C(gender) + csa_sc + tbv_brainBrainstem_full\n",
      "\t R2=0.17994950617760974\n",
      "\n",
      "edss_M0 ~ nlv_brain_motor-ext + age + disease_duration + C(gender) + csa_sc + tbv_brainBrainstem_full\n",
      "\t R2=0.17994950617760974\n",
      "\n",
      "edss_M0 ~ nlv_brainstem_motor + age + disease_duration + C(gender) + csa_sc + tbv_brainBrainstem_full\n",
      "\t R2=0.17208033663482458\n",
      "\n",
      "edss_M0 ~ nlv_sc_motor + age + disease_duration + C(gender) + csa_sc + tbv_brainBrainstem_full\n",
      "\t R2=0.21679699779492345\n",
      "\n",
      "edss_M0 ~ nlv_cns_motor + age + disease_duration + C(gender) + csa_sc + tbv_brainBrainstem_full\n",
      "\t R2=0.172482935867168\n"
     ]
    }
   ],
   "source": [
    "multiple_linear_regression(formula='edss_M0 ~ nlv_brain_motor + age + disease_duration + C(gender) + csa_sc + tbv_brainBrainstem_full',\n",
    "                           df=df_brain_sc,\n",
    "                           show_summary=False)\n",
    "multiple_linear_regression(formula='edss_M0 ~ nlv_brain_motor-ext + age + disease_duration + C(gender) + csa_sc + tbv_brainBrainstem_full',\n",
    "                           df=df_brain_sc,\n",
    "                           show_summary=False)\n",
    "multiple_linear_regression(formula='edss_M0 ~ nlv_brainstem_motor + age + disease_duration + C(gender) + csa_sc + tbv_brainBrainstem_full',\n",
    "                           df=df_brain_sc,\n",
    "                           show_summary=False)\n",
    "multiple_linear_regression(formula='edss_M0 ~ nlv_sc_motor + age + disease_duration + C(gender) + csa_sc + tbv_brainBrainstem_full',\n",
    "                           df=df_brain_sc,\n",
    "                           show_summary=False)\n",
    "multiple_linear_regression(formula='edss_M0 ~ nlv_cns_motor + age + disease_duration + C(gender) + csa_sc + tbv_brainBrainstem_full',\n",
    "                           df=df_brain_sc,\n",
    "                           show_summary=False)"
   ]
  },
  {
   "cell_type": "code",
   "execution_count": 27,
   "metadata": {},
   "outputs": [
    {
     "name": "stdout",
     "output_type": "stream",
     "text": [
      "\n",
      "edss_M0 ~ nlv_brain_full + age + disease_duration + C(gender) + csa_sc + tbv_brainBrainstem_full\n",
      "\t R2=0.17451339827544332\n",
      "\n",
      "edss_M0 ~ nlv_brainstem_full + age + disease_duration + C(gender) + csa_sc + tbv_brainBrainstem_full\n",
      "\t R2=0.18804844799580234\n",
      "\n",
      "edss_M0 ~ nlv_sc_full + age + disease_duration + C(gender) + csa_sc + tbv_brainBrainstem_full\n",
      "\t R2=0.23057872017152237\n",
      "\n",
      "edss_M0 ~ nlv_cns_full + age + disease_duration + C(gender) + csa_sc + tbv_brainBrainstem_full\n",
      "\t R2=0.17387549033526495\n"
     ]
    }
   ],
   "source": [
    "multiple_linear_regression(formula='edss_M0 ~ nlv_brain_full + age + disease_duration + C(gender) + csa_sc + tbv_brainBrainstem_full',\n",
    "                           df=df_brain_sc,\n",
    "                           show_summary=False)\n",
    "multiple_linear_regression(formula='edss_M0 ~ nlv_brainstem_full + age + disease_duration + C(gender) + csa_sc + tbv_brainBrainstem_full',\n",
    "                           df=df_brain_sc,\n",
    "                           show_summary=False)\n",
    "multiple_linear_regression(formula='edss_M0 ~ nlv_sc_full + age + disease_duration + C(gender) + csa_sc + tbv_brainBrainstem_full',\n",
    "                           df=df_brain_sc,\n",
    "                           show_summary=False)\n",
    "multiple_linear_regression(formula='edss_M0 ~ nlv_cns_full + age + disease_duration + C(gender) + csa_sc + tbv_brainBrainstem_full',\n",
    "                           df=df_brain_sc,\n",
    "                           show_summary=False)"
   ]
  },
  {
   "cell_type": "markdown",
   "metadata": {},
   "source": [
    "### EDSS_py_M0"
   ]
  },
  {
   "cell_type": "code",
   "execution_count": 28,
   "metadata": {},
   "outputs": [
    {
     "name": "stdout",
     "output_type": "stream",
     "text": [
      "\n",
      "edss_py_M0 ~ nlv_brain_motor + age + disease_duration + C(gender) + csa_sc + tbv_brainBrainstem_full\n",
      "\t R2=0.09850646686262865\n",
      "\n",
      "edss_py_M0 ~ nlv_brain_motor-ext + age + disease_duration + C(gender) + csa_sc + tbv_brainBrainstem_full\n",
      "\t R2=0.09850646686262865\n",
      "\n",
      "edss_py_M0 ~ nlv_brainstem_motor + age + disease_duration + C(gender) + csa_sc + tbv_brainBrainstem_full\n",
      "\t R2=0.09786750411185674\n",
      "\n",
      "edss_py_M0 ~ nlv_sc_motor + age + disease_duration + C(gender) + csa_sc + tbv_brainBrainstem_full\n",
      "\t R2=0.14629053310973594\n",
      "\n",
      "edss_py_M0 ~ nlv_cns_motor + age + disease_duration + C(gender) + csa_sc + tbv_brainBrainstem_full\n",
      "\t R2=0.12273855355645136\n"
     ]
    }
   ],
   "source": [
    "multiple_linear_regression(formula='edss_py_M0 ~ nlv_brain_motor + age + disease_duration + C(gender) + csa_sc + tbv_brainBrainstem_full',\n",
    "                           df=df_brain_sc,\n",
    "                           show_summary=False)\n",
    "multiple_linear_regression(formula='edss_py_M0 ~ nlv_brain_motor-ext + age + disease_duration + C(gender) + csa_sc + tbv_brainBrainstem_full',\n",
    "                           df=df_brain_sc,\n",
    "                           show_summary=False)\n",
    "multiple_linear_regression(formula='edss_py_M0 ~ nlv_brainstem_motor + age + disease_duration + C(gender) + csa_sc + tbv_brainBrainstem_full',\n",
    "                           df=df_brain_sc,\n",
    "                           show_summary=False)\n",
    "multiple_linear_regression(formula='edss_py_M0 ~ nlv_sc_motor + age + disease_duration + C(gender) + csa_sc + tbv_brainBrainstem_full',\n",
    "                           df=df_brain_sc,\n",
    "                           show_summary=False)\n",
    "multiple_linear_regression(formula='edss_py_M0 ~ nlv_cns_motor + age + disease_duration + C(gender) + csa_sc + tbv_brainBrainstem_full',\n",
    "                           df=df_brain_sc,\n",
    "                           show_summary=False)"
   ]
  },
  {
   "cell_type": "code",
   "execution_count": 29,
   "metadata": {},
   "outputs": [
    {
     "name": "stdout",
     "output_type": "stream",
     "text": [
      "\n",
      "edss_py_M0 ~ nlv_brain_full + age + disease_duration + C(gender) + csa_sc + tbv_brainBrainstem_full\n",
      "\t R2=0.09451984196395502\n",
      "\n",
      "edss_py_M0 ~ nlv_brainstem_full + age + disease_duration + C(gender) + csa_sc + tbv_brainBrainstem_full\n",
      "\t R2=0.09192692174003436\n",
      "\n",
      "edss_py_M0 ~ nlv_sc_full + age + disease_duration + C(gender) + csa_sc + tbv_brainBrainstem_full\n",
      "\t R2=0.1362624854774075\n",
      "\n",
      "edss_py_M0 ~ nlv_cns_full + age + disease_duration + C(gender) + csa_sc + tbv_brainBrainstem_full\n",
      "\t R2=0.0963427575946032\n"
     ]
    }
   ],
   "source": [
    "multiple_linear_regression(formula='edss_py_M0 ~ nlv_brain_full + age + disease_duration + C(gender) + csa_sc + tbv_brainBrainstem_full',\n",
    "                           df=df_brain_sc,\n",
    "                           show_summary=False)\n",
    "multiple_linear_regression(formula='edss_py_M0 ~ nlv_brainstem_full + age + disease_duration + C(gender) + csa_sc + tbv_brainBrainstem_full',\n",
    "                           df=df_brain_sc,\n",
    "                           show_summary=False)\n",
    "multiple_linear_regression(formula='edss_py_M0 ~ nlv_sc_full + age + disease_duration + C(gender) + csa_sc + tbv_brainBrainstem_full',\n",
    "                           df=df_brain_sc,\n",
    "                           show_summary=False)\n",
    "multiple_linear_regression(formula='edss_py_M0 ~ nlv_cns_full + age + disease_duration + C(gender) + csa_sc + tbv_brainBrainstem_full',\n",
    "                           df=df_brain_sc,\n",
    "                           show_summary=False)"
   ]
  },
  {
   "cell_type": "markdown",
   "metadata": {},
   "source": [
    "### T25FWT_M0"
   ]
  },
  {
   "cell_type": "code",
   "execution_count": 30,
   "metadata": {},
   "outputs": [
    {
     "name": "stdout",
     "output_type": "stream",
     "text": [
      "\n",
      "T25FWT_M0 ~ nlv_brain_motor + age + disease_duration + C(gender) + csa_sc + tbv_brainBrainstem_full\n",
      "\t R2=0.16201522871384988\n",
      "\n",
      "T25FWT_M0 ~ nlv_brain_motor-ext + age + disease_duration + C(gender) + csa_sc + tbv_brainBrainstem_full\n",
      "\t R2=0.16201522871384988\n",
      "\n",
      "T25FWT_M0 ~ nlv_brainstem_motor + age + disease_duration + C(gender) + csa_sc + tbv_brainBrainstem_full\n",
      "\t R2=0.1458488889971884\n",
      "\n",
      "T25FWT_M0 ~ nlv_sc_motor + age + disease_duration + C(gender) + csa_sc + tbv_brainBrainstem_full\n",
      "\t R2=0.16952390711288545\n",
      "\n",
      "T25FWT_M0 ~ nlv_cns_motor + age + disease_duration + C(gender) + csa_sc + tbv_brainBrainstem_full\n",
      "\t R2=0.14216464388218286\n"
     ]
    }
   ],
   "source": [
    "multiple_linear_regression(formula='T25FWT_M0 ~ nlv_brain_motor + age + disease_duration + C(gender) + csa_sc + tbv_brainBrainstem_full',\n",
    "                           df=df_brain_sc,\n",
    "                           show_summary=False)\n",
    "multiple_linear_regression(formula='T25FWT_M0 ~ nlv_brain_motor-ext + age + disease_duration + C(gender) + csa_sc + tbv_brainBrainstem_full',\n",
    "                           df=df_brain_sc,\n",
    "                           show_summary=False)\n",
    "multiple_linear_regression(formula='T25FWT_M0 ~ nlv_brainstem_motor + age + disease_duration + C(gender) + csa_sc + tbv_brainBrainstem_full',\n",
    "                           df=df_brain_sc,\n",
    "                           show_summary=False)\n",
    "multiple_linear_regression(formula='T25FWT_M0 ~ nlv_sc_motor + age + disease_duration + C(gender) + csa_sc + tbv_brainBrainstem_full',\n",
    "                           df=df_brain_sc,\n",
    "                           show_summary=False)\n",
    "multiple_linear_regression(formula='T25FWT_M0 ~ nlv_cns_motor + age + disease_duration + C(gender) + csa_sc + tbv_brainBrainstem_full',\n",
    "                           df=df_brain_sc,\n",
    "                           show_summary=False)"
   ]
  },
  {
   "cell_type": "code",
   "execution_count": 31,
   "metadata": {},
   "outputs": [
    {
     "name": "stdout",
     "output_type": "stream",
     "text": [
      "\n",
      "T25FWT_M0 ~ nlv_brain_full + age + disease_duration + C(gender) + csa_sc + tbv_brainBrainstem_full\n",
      "\t R2=0.16490578627507124\n",
      "\n",
      "T25FWT_M0 ~ nlv_brainstem_full + age + disease_duration + C(gender) + csa_sc + tbv_brainBrainstem_full\n",
      "\t R2=0.14381020745204698\n",
      "\n",
      "T25FWT_M0 ~ nlv_sc_full + age + disease_duration + C(gender) + csa_sc + tbv_brainBrainstem_full\n",
      "\t R2=0.20364185106079236\n",
      "\n",
      "T25FWT_M0 ~ nlv_cns_full + age + disease_duration + C(gender) + csa_sc + tbv_brainBrainstem_full\n",
      "\t R2=0.15062896175413876\n"
     ]
    }
   ],
   "source": [
    "multiple_linear_regression(formula='T25FWT_M0 ~ nlv_brain_full + age + disease_duration + C(gender) + csa_sc + tbv_brainBrainstem_full',\n",
    "                           df=df_brain_sc,\n",
    "                           show_summary=False)\n",
    "multiple_linear_regression(formula='T25FWT_M0 ~ nlv_brainstem_full + age + disease_duration + C(gender) + csa_sc + tbv_brainBrainstem_full',\n",
    "                           df=df_brain_sc,\n",
    "                           show_summary=False)\n",
    "multiple_linear_regression(formula='T25FWT_M0 ~ nlv_sc_full + age + disease_duration + C(gender) + csa_sc + tbv_brainBrainstem_full',\n",
    "                           df=df_brain_sc,\n",
    "                           show_summary=False)\n",
    "multiple_linear_regression(formula='T25FWT_M0 ~ nlv_cns_full + age + disease_duration + C(gender) + csa_sc + tbv_brainBrainstem_full',\n",
    "                           df=df_brain_sc,\n",
    "                           show_summary=False)"
   ]
  },
  {
   "cell_type": "markdown",
   "metadata": {},
   "source": [
    "## M24"
   ]
  },
  {
   "cell_type": "markdown",
   "metadata": {},
   "source": [
    "### EDSS_M24"
   ]
  },
  {
   "cell_type": "code",
   "execution_count": 32,
   "metadata": {},
   "outputs": [
    {
     "name": "stdout",
     "output_type": "stream",
     "text": [
      "\n",
      "edss_M24 ~ nlv_brain_motor + age + disease_duration + C(gender) + csa_sc + tbv_brainBrainstem_full\n",
      "\t R2=0.20582230207677077\n",
      "\n",
      "edss_M24 ~ nlv_brain_motor-ext + age + disease_duration + C(gender) + csa_sc + tbv_brainBrainstem_full\n",
      "\t R2=0.20582230207677077\n",
      "\n",
      "edss_M24 ~ nlv_brainstem_motor + age + disease_duration + C(gender) + csa_sc + tbv_brainBrainstem_full\n",
      "\t R2=0.20643233435610464\n",
      "\n",
      "edss_M24 ~ nlv_sc_motor + age + disease_duration + C(gender) + csa_sc + tbv_brainBrainstem_full\n",
      "\t R2=0.39811703992815906\n",
      "\n",
      "edss_M24 ~ nlv_cns_motor + age + disease_duration + C(gender) + csa_sc + tbv_brainBrainstem_full\n",
      "\t R2=0.2757304257543307\n"
     ]
    }
   ],
   "source": [
    "multiple_linear_regression(formula='edss_M24 ~ nlv_brain_motor + age + disease_duration + C(gender) + csa_sc + tbv_brainBrainstem_full',\n",
    "                           df=df_M24,\n",
    "                           show_summary=False)\n",
    "multiple_linear_regression(formula='edss_M24 ~ nlv_brain_motor-ext + age + disease_duration + C(gender) + csa_sc + tbv_brainBrainstem_full',\n",
    "                           df=df_M24,\n",
    "                           show_summary=False)\n",
    "multiple_linear_regression(formula='edss_M24 ~ nlv_brainstem_motor + age + disease_duration + C(gender) + csa_sc + tbv_brainBrainstem_full',\n",
    "                           df=df_M24,\n",
    "                           show_summary=False)\n",
    "multiple_linear_regression(formula='edss_M24 ~ nlv_sc_motor + age + disease_duration + C(gender) + csa_sc + tbv_brainBrainstem_full',\n",
    "                           df=df_M24,\n",
    "                           show_summary=False)\n",
    "multiple_linear_regression(formula='edss_M24 ~ nlv_cns_motor + age + disease_duration + C(gender) + csa_sc + tbv_brainBrainstem_full',\n",
    "                           df=df_M24,\n",
    "                           show_summary=False)"
   ]
  },
  {
   "cell_type": "code",
   "execution_count": 33,
   "metadata": {},
   "outputs": [
    {
     "name": "stdout",
     "output_type": "stream",
     "text": [
      "\n",
      "edss_M24 ~ nlv_brain_full + age + disease_duration + C(gender) + csa_sc + tbv_brainBrainstem_full\n",
      "\t R2=0.206703181474582\n",
      "\n",
      "edss_M24 ~ nlv_brainstem_full + age + disease_duration + C(gender) + csa_sc + tbv_brainBrainstem_full\n",
      "\t R2=0.21840860259048467\n",
      "\n",
      "edss_M24 ~ nlv_sc_full + age + disease_duration + C(gender) + csa_sc + tbv_brainBrainstem_full\n",
      "\t R2=0.4622287370498508\n",
      "\n",
      "edss_M24 ~ nlv_cns_full + age + disease_duration + C(gender) + csa_sc + tbv_brainBrainstem_full\n",
      "\t R2=0.21459812241893805\n"
     ]
    }
   ],
   "source": [
    "multiple_linear_regression(formula='edss_M24 ~ nlv_brain_full + age + disease_duration + C(gender) + csa_sc + tbv_brainBrainstem_full',\n",
    "                           df=df_M24,\n",
    "                           show_summary=False)\n",
    "multiple_linear_regression(formula='edss_M24 ~ nlv_brainstem_full + age + disease_duration + C(gender) + csa_sc + tbv_brainBrainstem_full',\n",
    "                           df=df_M24,\n",
    "                           show_summary=False)\n",
    "multiple_linear_regression(formula='edss_M24 ~ nlv_sc_full + age + disease_duration + C(gender) + csa_sc + tbv_brainBrainstem_full',\n",
    "                           df=df_M24,\n",
    "                           show_summary=False)\n",
    "multiple_linear_regression(formula='edss_M24 ~ nlv_cns_full + age + disease_duration + C(gender) + csa_sc + tbv_brainBrainstem_full',\n",
    "                           df=df_M24,\n",
    "                           show_summary=False)"
   ]
  },
  {
   "cell_type": "markdown",
   "metadata": {},
   "source": [
    "### EDSS_py_M24"
   ]
  },
  {
   "cell_type": "code",
   "execution_count": 34,
   "metadata": {},
   "outputs": [
    {
     "name": "stdout",
     "output_type": "stream",
     "text": [
      "\n",
      "edss_py_M24 ~ nlv_brain_motor + age + disease_duration + C(gender) + csa_sc + tbv_brainBrainstem_full\n",
      "\t R2=0.2508638754422923\n",
      "\n",
      "edss_py_M24 ~ nlv_brain_motor-ext + age + disease_duration + C(gender) + csa_sc + tbv_brainBrainstem_full\n",
      "\t R2=0.2508638754422923\n",
      "\n",
      "edss_py_M24 ~ nlv_brainstem_motor + age + disease_duration + C(gender) + csa_sc + tbv_brainBrainstem_full\n",
      "\t R2=0.24606752645215424\n",
      "\n",
      "edss_py_M24 ~ nlv_sc_motor + age + disease_duration + C(gender) + csa_sc + tbv_brainBrainstem_full\n",
      "\t R2=0.5067509983301426\n",
      "\n",
      "edss_py_M24 ~ nlv_cns_motor + age + disease_duration + C(gender) + csa_sc + tbv_brainBrainstem_full\n",
      "\t R2=0.4063877873657593\n"
     ]
    }
   ],
   "source": [
    "multiple_linear_regression(formula='edss_py_M24 ~ nlv_brain_motor + age + disease_duration + C(gender) + csa_sc + tbv_brainBrainstem_full',\n",
    "                           df=df_M24,\n",
    "                           show_summary=False)\n",
    "multiple_linear_regression(formula='edss_py_M24 ~ nlv_brain_motor-ext + age + disease_duration + C(gender) + csa_sc + tbv_brainBrainstem_full',\n",
    "                           df=df_M24,\n",
    "                           show_summary=False)\n",
    "multiple_linear_regression(formula='edss_py_M24 ~ nlv_brainstem_motor + age + disease_duration + C(gender) + csa_sc + tbv_brainBrainstem_full',\n",
    "                           df=df_M24,\n",
    "                           show_summary=False)\n",
    "multiple_linear_regression(formula='edss_py_M24 ~ nlv_sc_motor + age + disease_duration + C(gender) + csa_sc + tbv_brainBrainstem_full',\n",
    "                           df=df_M24,\n",
    "                           show_summary=False)\n",
    "multiple_linear_regression(formula='edss_py_M24 ~ nlv_cns_motor + age + disease_duration + C(gender) + csa_sc + tbv_brainBrainstem_full',\n",
    "                           df=df_M24,\n",
    "                           show_summary=False)"
   ]
  },
  {
   "cell_type": "code",
   "execution_count": 35,
   "metadata": {},
   "outputs": [
    {
     "name": "stdout",
     "output_type": "stream",
     "text": [
      "\n",
      "edss_py_M24 ~ nlv_brain_full + age + disease_duration + C(gender) + csa_sc + tbv_brainBrainstem_full\n",
      "\t R2=0.29607160158046475\n",
      "\n",
      "edss_py_M24 ~ nlv_brainstem_full + age + disease_duration + C(gender) + csa_sc + tbv_brainBrainstem_full\n",
      "\t R2=0.31237698429338\n",
      "\n",
      "edss_py_M24 ~ nlv_sc_full + age + disease_duration + C(gender) + csa_sc + tbv_brainBrainstem_full\n",
      "\t R2=0.5729039089919832\n",
      "\n",
      "edss_py_M24 ~ nlv_cns_full + age + disease_duration + C(gender) + csa_sc + tbv_brainBrainstem_full\n",
      "\t R2=0.3264045336424273\n"
     ]
    }
   ],
   "source": [
    "multiple_linear_regression(formula='edss_py_M24 ~ nlv_brain_full + age + disease_duration + C(gender) + csa_sc + tbv_brainBrainstem_full',\n",
    "                           df=df_M24,\n",
    "                           show_summary=False)\n",
    "multiple_linear_regression(formula='edss_py_M24 ~ nlv_brainstem_full + age + disease_duration + C(gender) + csa_sc + tbv_brainBrainstem_full',\n",
    "                           df=df_M24,\n",
    "                           show_summary=False)\n",
    "multiple_linear_regression(formula='edss_py_M24 ~ nlv_sc_full + age + disease_duration + C(gender) + csa_sc + tbv_brainBrainstem_full',\n",
    "                           df=df_M24,\n",
    "                           show_summary=False)\n",
    "multiple_linear_regression(formula='edss_py_M24 ~ nlv_cns_full + age + disease_duration + C(gender) + csa_sc + tbv_brainBrainstem_full',\n",
    "                           df=df_M24,\n",
    "                           show_summary=False)"
   ]
  },
  {
   "cell_type": "markdown",
   "metadata": {},
   "source": [
    "### T25FWT_M0"
   ]
  },
  {
   "cell_type": "code",
   "execution_count": 36,
   "metadata": {},
   "outputs": [
    {
     "name": "stdout",
     "output_type": "stream",
     "text": [
      "\n",
      "T25FWT_M24 ~ nlv_brain_motor + age + disease_duration + C(gender) + csa_sc + tbv_brainBrainstem_full\n",
      "\t R2=0.1239945065824517\n",
      "\n",
      "T25FWT_M24 ~ nlv_brain_motor-ext + age + disease_duration + C(gender) + csa_sc + tbv_brainBrainstem_full\n",
      "\t R2=0.1239945065824517\n",
      "\n",
      "T25FWT_M24 ~ nlv_brainstem_motor + age + disease_duration + C(gender) + csa_sc + tbv_brainBrainstem_full\n",
      "\t R2=0.12164353661114824\n",
      "\n",
      "T25FWT_M24 ~ nlv_sc_motor + age + disease_duration + C(gender) + csa_sc + tbv_brainBrainstem_full\n",
      "\t R2=0.12380143509773789\n",
      "\n",
      "T25FWT_M24 ~ nlv_cns_motor + age + disease_duration + C(gender) + csa_sc + tbv_brainBrainstem_full\n",
      "\t R2=0.1190140776563492\n"
     ]
    }
   ],
   "source": [
    "multiple_linear_regression(formula='T25FWT_M24 ~ nlv_brain_motor + age + disease_duration + C(gender) + csa_sc + tbv_brainBrainstem_full',\n",
    "                           df=df_M24,\n",
    "                           show_summary=False)\n",
    "multiple_linear_regression(formula='T25FWT_M24 ~ nlv_brain_motor-ext + age + disease_duration + C(gender) + csa_sc + tbv_brainBrainstem_full',\n",
    "                           df=df_M24,\n",
    "                           show_summary=False)\n",
    "multiple_linear_regression(formula='T25FWT_M24 ~ nlv_brainstem_motor + age + disease_duration + C(gender) + csa_sc + tbv_brainBrainstem_full',\n",
    "                           df=df_M24,\n",
    "                           show_summary=False)\n",
    "multiple_linear_regression(formula='T25FWT_M24 ~ nlv_sc_motor + age + disease_duration + C(gender) + csa_sc + tbv_brainBrainstem_full',\n",
    "                           df=df_M24,\n",
    "                           show_summary=False)\n",
    "multiple_linear_regression(formula='T25FWT_M24 ~ nlv_cns_motor + age + disease_duration + C(gender) + csa_sc + tbv_brainBrainstem_full',\n",
    "                           df=df_M24,\n",
    "                           show_summary=False)"
   ]
  },
  {
   "cell_type": "code",
   "execution_count": 37,
   "metadata": {},
   "outputs": [
    {
     "name": "stdout",
     "output_type": "stream",
     "text": [
      "\n",
      "T25FWT_M24 ~ nlv_brain_full + age + disease_duration + C(gender) + csa_sc + tbv_brainBrainstem_full\n",
      "\t R2=0.11807755810630982\n",
      "\n",
      "T25FWT_M24 ~ nlv_brainstem_full + age + disease_duration + C(gender) + csa_sc + tbv_brainBrainstem_full\n",
      "\t R2=0.13202279839988584\n",
      "\n",
      "T25FWT_M24 ~ nlv_sc_full + age + disease_duration + C(gender) + csa_sc + tbv_brainBrainstem_full\n",
      "\t R2=0.13426209466393257\n",
      "\n",
      "T25FWT_M24 ~ nlv_cns_full + age + disease_duration + C(gender) + csa_sc + tbv_brainBrainstem_full\n",
      "\t R2=0.1190136651728394\n"
     ]
    }
   ],
   "source": [
    "multiple_linear_regression(formula='T25FWT_M24 ~ nlv_brain_full + age + disease_duration + C(gender) + csa_sc + tbv_brainBrainstem_full',\n",
    "                           df=df_M24,\n",
    "                           show_summary=False)\n",
    "multiple_linear_regression(formula='T25FWT_M24 ~ nlv_brainstem_full + age + disease_duration + C(gender) + csa_sc + tbv_brainBrainstem_full',\n",
    "                           df=df_M24,\n",
    "                           show_summary=False)\n",
    "multiple_linear_regression(formula='T25FWT_M24 ~ nlv_sc_full + age + disease_duration + C(gender) + csa_sc + tbv_brainBrainstem_full',\n",
    "                           df=df_M24,\n",
    "                           show_summary=False)\n",
    "multiple_linear_regression(formula='T25FWT_M24 ~ nlv_cns_full + age + disease_duration + C(gender) + csa_sc + tbv_brainBrainstem_full',\n",
    "                           df=df_M24,\n",
    "                           show_summary=False)"
   ]
  },
  {
   "cell_type": "code",
   "execution_count": null,
   "metadata": {},
   "outputs": [],
   "source": []
  }
 ],
 "metadata": {
  "kernelspec": {
   "display_name": "Python 2",
   "language": "python",
   "name": "python2"
  },
  "language_info": {
   "codemirror_mode": {
    "name": "ipython",
    "version": 2
   },
   "file_extension": ".py",
   "mimetype": "text/x-python",
   "name": "python",
   "nbconvert_exporter": "python",
   "pygments_lexer": "ipython2",
   "version": "2.7.12"
  }
 },
 "nbformat": 4,
 "nbformat_minor": 2
}
